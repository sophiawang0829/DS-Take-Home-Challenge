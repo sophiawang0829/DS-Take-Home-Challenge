{
 "cells": [
  {
   "cell_type": "code",
   "execution_count": 1,
   "id": "199bb88e",
   "metadata": {},
   "outputs": [],
   "source": [
    "import numpy as np\n",
    "import pandas as pd\n",
    "\n",
    "import seaborn as sns\n",
    "import matplotlib.pylab as plt\n",
    "\n",
    "import datetime\n",
    "import scipy.stats as ss\n",
    "\n",
    "import warnings\n",
    "warnings.filterwarnings('ignore')"
   ]
  },
  {
   "cell_type": "markdown",
   "id": "d678b000",
   "metadata": {},
   "source": [
    "### Import data"
   ]
  },
  {
   "cell_type": "code",
   "execution_count": 2,
   "id": "b3fdd731",
   "metadata": {},
   "outputs": [
    {
     "data": {
      "text/html": [
       "<div>\n",
       "<style scoped>\n",
       "    .dataframe tbody tr th:only-of-type {\n",
       "        vertical-align: middle;\n",
       "    }\n",
       "\n",
       "    .dataframe tbody tr th {\n",
       "        vertical-align: top;\n",
       "    }\n",
       "\n",
       "    .dataframe thead th {\n",
       "        text-align: right;\n",
       "    }\n",
       "</style>\n",
       "<table border=\"1\" class=\"dataframe\">\n",
       "  <thead>\n",
       "    <tr style=\"text-align: right;\">\n",
       "      <th></th>\n",
       "      <th>user_id</th>\n",
       "      <th>date</th>\n",
       "      <th>country</th>\n",
       "      <th>money_spent</th>\n",
       "      <th>is_referral</th>\n",
       "      <th>device_id</th>\n",
       "    </tr>\n",
       "  </thead>\n",
       "  <tbody>\n",
       "    <tr>\n",
       "      <th>0</th>\n",
       "      <td>2</td>\n",
       "      <td>2015-10-03</td>\n",
       "      <td>FR</td>\n",
       "      <td>65</td>\n",
       "      <td>0</td>\n",
       "      <td>EVDCJTZMVMJDG</td>\n",
       "    </tr>\n",
       "    <tr>\n",
       "      <th>1</th>\n",
       "      <td>3</td>\n",
       "      <td>2015-10-03</td>\n",
       "      <td>CA</td>\n",
       "      <td>54</td>\n",
       "      <td>0</td>\n",
       "      <td>WUBZFTVKXGQQX</td>\n",
       "    </tr>\n",
       "    <tr>\n",
       "      <th>2</th>\n",
       "      <td>6</td>\n",
       "      <td>2015-10-03</td>\n",
       "      <td>FR</td>\n",
       "      <td>35</td>\n",
       "      <td>0</td>\n",
       "      <td>CBAPCJRTFNUJG</td>\n",
       "    </tr>\n",
       "    <tr>\n",
       "      <th>3</th>\n",
       "      <td>7</td>\n",
       "      <td>2015-10-03</td>\n",
       "      <td>UK</td>\n",
       "      <td>73</td>\n",
       "      <td>0</td>\n",
       "      <td>PRGXJZAJKMXRH</td>\n",
       "    </tr>\n",
       "    <tr>\n",
       "      <th>4</th>\n",
       "      <td>7</td>\n",
       "      <td>2015-10-03</td>\n",
       "      <td>MX</td>\n",
       "      <td>35</td>\n",
       "      <td>0</td>\n",
       "      <td>PRGXJZAJKMXRH</td>\n",
       "    </tr>\n",
       "  </tbody>\n",
       "</table>\n",
       "</div>"
      ],
      "text/plain": [
       "   user_id       date country  money_spent  is_referral      device_id\n",
       "0        2 2015-10-03      FR           65            0  EVDCJTZMVMJDG\n",
       "1        3 2015-10-03      CA           54            0  WUBZFTVKXGQQX\n",
       "2        6 2015-10-03      FR           35            0  CBAPCJRTFNUJG\n",
       "3        7 2015-10-03      UK           73            0  PRGXJZAJKMXRH\n",
       "4        7 2015-10-03      MX           35            0  PRGXJZAJKMXRH"
      ]
     },
     "execution_count": 2,
     "metadata": {},
     "output_type": "execute_result"
    }
   ],
   "source": [
    "referral = pd.read_csv('C:/Sophia/School!!!/2023 Spring 1/DS take home/11.user referral data/referral.csv', parse_dates=['date'])\n",
    "referral.head()"
   ]
  },
  {
   "cell_type": "code",
   "execution_count": 3,
   "id": "00893b40",
   "metadata": {},
   "outputs": [
    {
     "name": "stdout",
     "output_type": "stream",
     "text": [
      "<class 'pandas.core.frame.DataFrame'>\n",
      "RangeIndex: 97341 entries, 0 to 97340\n",
      "Data columns (total 6 columns):\n",
      " #   Column       Non-Null Count  Dtype         \n",
      "---  ------       --------------  -----         \n",
      " 0   user_id      97341 non-null  int64         \n",
      " 1   date         97341 non-null  datetime64[ns]\n",
      " 2   country      97341 non-null  object        \n",
      " 3   money_spent  97341 non-null  int64         \n",
      " 4   is_referral  97341 non-null  int64         \n",
      " 5   device_id    97341 non-null  object        \n",
      "dtypes: datetime64[ns](1), int64(3), object(2)\n",
      "memory usage: 4.5+ MB\n"
     ]
    }
   ],
   "source": [
    "referral.info()"
   ]
  },
  {
   "cell_type": "code",
   "execution_count": 4,
   "id": "49f1289d",
   "metadata": {},
   "outputs": [],
   "source": [
    "dt_referral_starts = datetime.datetime(2015,10,31)"
   ]
  },
  {
   "cell_type": "code",
   "execution_count": 5,
   "id": "1a424d73",
   "metadata": {},
   "outputs": [
    {
     "data": {
      "text/plain": [
       "False    28\n",
       "True     28\n",
       "dtype: int64"
      ]
     },
     "execution_count": 5,
     "metadata": {},
     "output_type": "execute_result"
    }
   ],
   "source": [
    "(pd.Series(referral.date.unique()) >= dt_referral_starts).value_counts()"
   ]
  },
  {
   "cell_type": "markdown",
   "id": "7c518b41",
   "metadata": {},
   "source": [
    "There are 28 days before the program, and 28 days after the program. User Referral program starts right in the middle."
   ]
  },
  {
   "cell_type": "markdown",
   "id": "ab6c9077",
   "metadata": {},
   "source": [
    "### Q1: Can you estimate the impact the program had on the site?"
   ]
  },
  {
   "cell_type": "markdown",
   "id": "f3d0129e",
   "metadata": {},
   "source": [
    "### Hypothesis test on all data"
   ]
  },
  {
   "cell_type": "code",
   "execution_count": 6,
   "id": "08399ab1",
   "metadata": {},
   "outputs": [],
   "source": [
    "def count_spent(df):\n",
    "    d = {}\n",
    "    d['n_purchase'] = len(df) # number of purchase in that day\n",
    "    d['total_spent'] = df.money_spent.sum() # total money spent in that day\n",
    "    d['n_customer'] = len(df.user_id.unique()) # how many customers access the store that day\n",
    "    return pd.Series(d)"
   ]
  },
  {
   "cell_type": "code",
   "execution_count": 7,
   "id": "dc437271",
   "metadata": {},
   "outputs": [],
   "source": [
    "def daily_statistics(df):\n",
    "    \"\"\"\n",
    "    given a dataframe\n",
    "    1.  group by day, and return '#purchase','total spent money','#customers' on each day\n",
    "    2.  split daily data into two groups, before the program and after the program\n",
    "    3.  for each 'sale index' ('#purchase','total spent money','#customers'), \n",
    "        calculate the mean before/after the program, their difference, and pvalue \n",
    "    \"\"\"\n",
    "    grpby_day = df.groupby('date').apply(count_spent)\n",
    "\n",
    "    grpby_day_before = grpby_day.loc[grpby_day.index < dt_referral_starts, :]\n",
    "    grpby_day_after = grpby_day.loc[grpby_day.index >= dt_referral_starts, :]\n",
    "\n",
    "    d = []\n",
    "    colnames = ['total_spent','n_purchase','n_customer']\n",
    "    for col in colnames:\n",
    "        pre_data = grpby_day_before.loc[:,col]\n",
    "        pre_mean = pre_data.mean()\n",
    "\n",
    "        post_data = grpby_day_after.loc[:,col]\n",
    "        post_mean = post_data.mean()\n",
    "\n",
    "        result = ss.ttest_ind(pre_data, post_data, equal_var=False)\n",
    "        # either greater or smaller, just one-tail test\n",
    "        pvalue = result.pvalue / 2 \n",
    "\n",
    "        d.append({'mean_pre':pre_mean,'mean_post':post_mean,'mean_diff':post_mean - pre_mean,\n",
    "                  'pvalue':pvalue})\n",
    "\n",
    "    # re-order the columns\n",
    "    return pd.DataFrame(d,index = colnames).loc[:,['mean_pre','mean_post','mean_diff','pvalue']]"
   ]
  },
  {
   "cell_type": "code",
   "execution_count": 8,
   "id": "1b5f99e1",
   "metadata": {},
   "outputs": [
    {
     "data": {
      "text/html": [
       "<div>\n",
       "<style scoped>\n",
       "    .dataframe tbody tr th:only-of-type {\n",
       "        vertical-align: middle;\n",
       "    }\n",
       "\n",
       "    .dataframe tbody tr th {\n",
       "        vertical-align: top;\n",
       "    }\n",
       "\n",
       "    .dataframe thead th {\n",
       "        text-align: right;\n",
       "    }\n",
       "</style>\n",
       "<table border=\"1\" class=\"dataframe\">\n",
       "  <thead>\n",
       "    <tr style=\"text-align: right;\">\n",
       "      <th></th>\n",
       "      <th>mean_pre</th>\n",
       "      <th>mean_post</th>\n",
       "      <th>mean_diff</th>\n",
       "      <th>pvalue</th>\n",
       "    </tr>\n",
       "  </thead>\n",
       "  <tbody>\n",
       "    <tr>\n",
       "      <th>total_spent</th>\n",
       "      <td>71657.000000</td>\n",
       "      <td>83714.392857</td>\n",
       "      <td>12057.392857</td>\n",
       "      <td>0.135194</td>\n",
       "    </tr>\n",
       "    <tr>\n",
       "      <th>n_purchase</th>\n",
       "      <td>1690.750000</td>\n",
       "      <td>1785.714286</td>\n",
       "      <td>94.964286</td>\n",
       "      <td>0.348257</td>\n",
       "    </tr>\n",
       "    <tr>\n",
       "      <th>n_customer</th>\n",
       "      <td>1384.464286</td>\n",
       "      <td>1686.964286</td>\n",
       "      <td>302.500000</td>\n",
       "      <td>0.059545</td>\n",
       "    </tr>\n",
       "  </tbody>\n",
       "</table>\n",
       "</div>"
      ],
      "text/plain": [
       "                 mean_pre     mean_post     mean_diff    pvalue\n",
       "total_spent  71657.000000  83714.392857  12057.392857  0.135194\n",
       "n_purchase    1690.750000   1785.714286     94.964286  0.348257\n",
       "n_customer    1384.464286   1686.964286    302.500000  0.059545"
      ]
     },
     "execution_count": 8,
     "metadata": {},
     "output_type": "execute_result"
    }
   ],
   "source": [
    "daily_statistics(referral)"
   ]
  },
  {
   "cell_type": "markdown",
   "id": "e67b2b76",
   "metadata": {},
   "source": [
    "Although after launching the 'user referral' program, in all three 'sale index', i.e., 'daily purchase activity', 'daily money spent', 'daily customers', are all increased, however, none of those increment are significant. (by using a ** 0.05 ** significant level)"
   ]
  },
  {
   "cell_type": "markdown",
   "id": "621dc670",
   "metadata": {},
   "source": [
    "### Hypothesis test grouped by country"
   ]
  },
  {
   "cell_type": "code",
   "execution_count": 9,
   "id": "89fcb24c",
   "metadata": {},
   "outputs": [
    {
     "data": {
      "text/plain": [
       "UK    15493\n",
       "FR    15396\n",
       "US    15280\n",
       "IT    11446\n",
       "DE    11093\n",
       "ES     9831\n",
       "CA     9440\n",
       "MX     8133\n",
       "CH     1229\n",
       "Name: country, dtype: int64"
      ]
     },
     "execution_count": 9,
     "metadata": {},
     "output_type": "execute_result"
    }
   ],
   "source": [
    "referral.country.value_counts()"
   ]
  },
  {
   "cell_type": "code",
   "execution_count": 10,
   "id": "60e6971d",
   "metadata": {},
   "outputs": [],
   "source": [
    "daily_stat_bycountry = referral.groupby('country').apply(daily_statistics)"
   ]
  },
  {
   "cell_type": "code",
   "execution_count": 11,
   "id": "36d7f237",
   "metadata": {},
   "outputs": [
    {
     "data": {
      "text/html": [
       "<div>\n",
       "<style scoped>\n",
       "    .dataframe tbody tr th:only-of-type {\n",
       "        vertical-align: middle;\n",
       "    }\n",
       "\n",
       "    .dataframe tbody tr th {\n",
       "        vertical-align: top;\n",
       "    }\n",
       "\n",
       "    .dataframe thead th {\n",
       "        text-align: right;\n",
       "    }\n",
       "</style>\n",
       "<table border=\"1\" class=\"dataframe\">\n",
       "  <thead>\n",
       "    <tr style=\"text-align: right;\">\n",
       "      <th></th>\n",
       "      <th></th>\n",
       "      <th>mean_pre</th>\n",
       "      <th>mean_post</th>\n",
       "      <th>mean_diff</th>\n",
       "      <th>pvalue</th>\n",
       "    </tr>\n",
       "    <tr>\n",
       "      <th>country</th>\n",
       "      <th></th>\n",
       "      <th></th>\n",
       "      <th></th>\n",
       "      <th></th>\n",
       "      <th></th>\n",
       "    </tr>\n",
       "  </thead>\n",
       "  <tbody>\n",
       "    <tr>\n",
       "      <th rowspan=\"3\" valign=\"top\">CA</th>\n",
       "      <th>total_spent</th>\n",
       "      <td>7468.428571</td>\n",
       "      <td>7880.428571</td>\n",
       "      <td>412.000000</td>\n",
       "      <td>0.351704</td>\n",
       "    </tr>\n",
       "    <tr>\n",
       "      <th>n_purchase</th>\n",
       "      <td>177.142857</td>\n",
       "      <td>160.000000</td>\n",
       "      <td>-17.142857</td>\n",
       "      <td>0.233985</td>\n",
       "    </tr>\n",
       "    <tr>\n",
       "      <th>n_customer</th>\n",
       "      <td>173.285714</td>\n",
       "      <td>159.178571</td>\n",
       "      <td>-14.107143</td>\n",
       "      <td>0.268256</td>\n",
       "    </tr>\n",
       "    <tr>\n",
       "      <th rowspan=\"3\" valign=\"top\">CH</th>\n",
       "      <th>total_spent</th>\n",
       "      <td>1536.321429</td>\n",
       "      <td>1023.892857</td>\n",
       "      <td>-512.428571</td>\n",
       "      <td>0.006941</td>\n",
       "    </tr>\n",
       "    <tr>\n",
       "      <th>n_purchase</th>\n",
       "      <td>26.821429</td>\n",
       "      <td>17.071429</td>\n",
       "      <td>-9.750000</td>\n",
       "      <td>0.003072</td>\n",
       "    </tr>\n",
       "    <tr>\n",
       "      <th>n_customer</th>\n",
       "      <td>26.714286</td>\n",
       "      <td>17.071429</td>\n",
       "      <td>-9.642857</td>\n",
       "      <td>0.003142</td>\n",
       "    </tr>\n",
       "    <tr>\n",
       "      <th rowspan=\"3\" valign=\"top\">DE</th>\n",
       "      <th>total_spent</th>\n",
       "      <td>9856.750000</td>\n",
       "      <td>8013.964286</td>\n",
       "      <td>-1842.785714</td>\n",
       "      <td>0.081459</td>\n",
       "    </tr>\n",
       "    <tr>\n",
       "      <th>n_purchase</th>\n",
       "      <td>232.142857</td>\n",
       "      <td>164.035714</td>\n",
       "      <td>-68.107143</td>\n",
       "      <td>0.011798</td>\n",
       "    </tr>\n",
       "    <tr>\n",
       "      <th>n_customer</th>\n",
       "      <td>224.964286</td>\n",
       "      <td>163.250000</td>\n",
       "      <td>-61.714286</td>\n",
       "      <td>0.015665</td>\n",
       "    </tr>\n",
       "    <tr>\n",
       "      <th rowspan=\"3\" valign=\"top\">ES</th>\n",
       "      <th>total_spent</th>\n",
       "      <td>6648.642857</td>\n",
       "      <td>8660.571429</td>\n",
       "      <td>2011.928571</td>\n",
       "      <td>0.037522</td>\n",
       "    </tr>\n",
       "    <tr>\n",
       "      <th>n_purchase</th>\n",
       "      <td>156.607143</td>\n",
       "      <td>194.500000</td>\n",
       "      <td>37.892857</td>\n",
       "      <td>0.072638</td>\n",
       "    </tr>\n",
       "    <tr>\n",
       "      <th>n_customer</th>\n",
       "      <td>153.392857</td>\n",
       "      <td>193.214286</td>\n",
       "      <td>39.821429</td>\n",
       "      <td>0.057954</td>\n",
       "    </tr>\n",
       "    <tr>\n",
       "      <th rowspan=\"3\" valign=\"top\">FR</th>\n",
       "      <th>total_spent</th>\n",
       "      <td>10385.250000</td>\n",
       "      <td>13635.000000</td>\n",
       "      <td>3249.750000</td>\n",
       "      <td>0.031843</td>\n",
       "    </tr>\n",
       "    <tr>\n",
       "      <th>n_purchase</th>\n",
       "      <td>244.142857</td>\n",
       "      <td>305.714286</td>\n",
       "      <td>61.571429</td>\n",
       "      <td>0.058996</td>\n",
       "    </tr>\n",
       "    <tr>\n",
       "      <th>n_customer</th>\n",
       "      <td>236.500000</td>\n",
       "      <td>302.535714</td>\n",
       "      <td>66.035714</td>\n",
       "      <td>0.041124</td>\n",
       "    </tr>\n",
       "    <tr>\n",
       "      <th rowspan=\"3\" valign=\"top\">IT</th>\n",
       "      <th>total_spent</th>\n",
       "      <td>7651.571429</td>\n",
       "      <td>10193.428571</td>\n",
       "      <td>2541.857143</td>\n",
       "      <td>0.025730</td>\n",
       "    </tr>\n",
       "    <tr>\n",
       "      <th>n_purchase</th>\n",
       "      <td>180.857143</td>\n",
       "      <td>227.928571</td>\n",
       "      <td>47.071429</td>\n",
       "      <td>0.057454</td>\n",
       "    </tr>\n",
       "    <tr>\n",
       "      <th>n_customer</th>\n",
       "      <td>176.535714</td>\n",
       "      <td>226.107143</td>\n",
       "      <td>49.571429</td>\n",
       "      <td>0.043911</td>\n",
       "    </tr>\n",
       "    <tr>\n",
       "      <th rowspan=\"3\" valign=\"top\">MX</th>\n",
       "      <th>total_spent</th>\n",
       "      <td>4975.464286</td>\n",
       "      <td>7033.214286</td>\n",
       "      <td>2057.750000</td>\n",
       "      <td>0.009670</td>\n",
       "    </tr>\n",
       "    <tr>\n",
       "      <th>n_purchase</th>\n",
       "      <td>126.464286</td>\n",
       "      <td>164.000000</td>\n",
       "      <td>37.535714</td>\n",
       "      <td>0.032430</td>\n",
       "    </tr>\n",
       "    <tr>\n",
       "      <th>n_customer</th>\n",
       "      <td>124.392857</td>\n",
       "      <td>163.107143</td>\n",
       "      <td>38.714286</td>\n",
       "      <td>0.026203</td>\n",
       "    </tr>\n",
       "    <tr>\n",
       "      <th rowspan=\"3\" valign=\"top\">UK</th>\n",
       "      <th>total_spent</th>\n",
       "      <td>11213.535714</td>\n",
       "      <td>14196.428571</td>\n",
       "      <td>2982.892857</td>\n",
       "      <td>0.048490</td>\n",
       "    </tr>\n",
       "    <tr>\n",
       "      <th>n_purchase</th>\n",
       "      <td>264.285714</td>\n",
       "      <td>289.035714</td>\n",
       "      <td>24.750000</td>\n",
       "      <td>0.261183</td>\n",
       "    </tr>\n",
       "    <tr>\n",
       "      <th>n_customer</th>\n",
       "      <td>255.571429</td>\n",
       "      <td>286.321429</td>\n",
       "      <td>30.750000</td>\n",
       "      <td>0.204398</td>\n",
       "    </tr>\n",
       "    <tr>\n",
       "      <th rowspan=\"3\" valign=\"top\">US</th>\n",
       "      <th>total_spent</th>\n",
       "      <td>11921.035714</td>\n",
       "      <td>13077.464286</td>\n",
       "      <td>1156.428571</td>\n",
       "      <td>0.248874</td>\n",
       "    </tr>\n",
       "    <tr>\n",
       "      <th>n_purchase</th>\n",
       "      <td>282.285714</td>\n",
       "      <td>263.428571</td>\n",
       "      <td>-18.857143</td>\n",
       "      <td>0.307801</td>\n",
       "    </tr>\n",
       "    <tr>\n",
       "      <th>n_customer</th>\n",
       "      <td>273.178571</td>\n",
       "      <td>261.107143</td>\n",
       "      <td>-12.071429</td>\n",
       "      <td>0.368860</td>\n",
       "    </tr>\n",
       "  </tbody>\n",
       "</table>\n",
       "</div>"
      ],
      "text/plain": [
       "                         mean_pre     mean_post    mean_diff    pvalue\n",
       "country                                                               \n",
       "CA      total_spent   7468.428571   7880.428571   412.000000  0.351704\n",
       "        n_purchase     177.142857    160.000000   -17.142857  0.233985\n",
       "        n_customer     173.285714    159.178571   -14.107143  0.268256\n",
       "CH      total_spent   1536.321429   1023.892857  -512.428571  0.006941\n",
       "        n_purchase      26.821429     17.071429    -9.750000  0.003072\n",
       "        n_customer      26.714286     17.071429    -9.642857  0.003142\n",
       "DE      total_spent   9856.750000   8013.964286 -1842.785714  0.081459\n",
       "        n_purchase     232.142857    164.035714   -68.107143  0.011798\n",
       "        n_customer     224.964286    163.250000   -61.714286  0.015665\n",
       "ES      total_spent   6648.642857   8660.571429  2011.928571  0.037522\n",
       "        n_purchase     156.607143    194.500000    37.892857  0.072638\n",
       "        n_customer     153.392857    193.214286    39.821429  0.057954\n",
       "FR      total_spent  10385.250000  13635.000000  3249.750000  0.031843\n",
       "        n_purchase     244.142857    305.714286    61.571429  0.058996\n",
       "        n_customer     236.500000    302.535714    66.035714  0.041124\n",
       "IT      total_spent   7651.571429  10193.428571  2541.857143  0.025730\n",
       "        n_purchase     180.857143    227.928571    47.071429  0.057454\n",
       "        n_customer     176.535714    226.107143    49.571429  0.043911\n",
       "MX      total_spent   4975.464286   7033.214286  2057.750000  0.009670\n",
       "        n_purchase     126.464286    164.000000    37.535714  0.032430\n",
       "        n_customer     124.392857    163.107143    38.714286  0.026203\n",
       "UK      total_spent  11213.535714  14196.428571  2982.892857  0.048490\n",
       "        n_purchase     264.285714    289.035714    24.750000  0.261183\n",
       "        n_customer     255.571429    286.321429    30.750000  0.204398\n",
       "US      total_spent  11921.035714  13077.464286  1156.428571  0.248874\n",
       "        n_purchase     282.285714    263.428571   -18.857143  0.307801\n",
       "        n_customer     273.178571    261.107143   -12.071429  0.368860"
      ]
     },
     "execution_count": 11,
     "metadata": {},
     "output_type": "execute_result"
    }
   ],
   "source": [
    "daily_stat_bycountry"
   ]
  },
  {
   "cell_type": "markdown",
   "id": "448ebc67",
   "metadata": {},
   "source": [
    "From the result above, we know 'User Referral' program has different effect in different countries. The program boosts the sales in some country, but in some other countries, it even decrease the sales."
   ]
  },
  {
   "cell_type": "markdown",
   "id": "640c6547",
   "metadata": {},
   "source": [
    "##### Country-based conclusion\n",
    "By using a ** 0.1 ** significant level, we can conclude that\n",
    "- the program fails in CH and DE, it significantly decrease the sales in these two countries.\n",
    "- the program succeeds in 'MX','IT','FR','ES', it significantly increase the sales.\n",
    "- the program doesn't seem have any significant effect on UK,CA,US."
   ]
  },
  {
   "cell_type": "markdown",
   "id": "e3e6daef",
   "metadata": {},
   "source": [
    "### Q2: Based on the data, what would you suggest to do as a next step?"
   ]
  },
  {
   "cell_type": "markdown",
   "id": "6c5ccf1c",
   "metadata": {},
   "source": [
    "First, the company can perform more accurate A/B test and collect more data to study the impact of the program.\n",
    "Since the program has different impact in different country, the company can also study the reason for such difference. For example, does the program has any cultural conflicts in CH and DE?"
   ]
  },
  {
   "cell_type": "markdown",
   "id": "dfb99cf1",
   "metadata": {},
   "source": [
    "### Q3: The referral program wasn't really tested in a rigorous way. It simply started on a given day for all users and you are drawing conclusions by looking at the data before and after the test started. What kinds of risks this approach presents? Can you think of a better way to test the referral program and measure its impact?"
   ]
  },
  {
   "cell_type": "markdown",
   "id": "ec9ae0b2",
   "metadata": {},
   "source": [
    "This approach isn't an accurate A/B test. \"User Referral\" program isn't the only difference between control group and test group. for example, there may be some special holiday after Oct 31 in some country, or just because the weather get colder after Oct 31, people's requirement on some goods are increased.\n",
    "\n",
    "To get more accurate impact of the program, we need to perform a more careful A/B test. for example:\n",
    "\n",
    "- During the same peroid of time, randomly split the customers into two groups, and let only one group know the User Referral program.\n",
    "- Run the experiment some time, then perform the t-test to see whether some 'sale performance index' (e.g., daily spent, daily customers, daily transactions) have significant changes or not."
   ]
  }
 ],
 "metadata": {
  "kernelspec": {
   "display_name": "Python 3 (ipykernel)",
   "language": "python",
   "name": "python3"
  },
  "language_info": {
   "codemirror_mode": {
    "name": "ipython",
    "version": 3
   },
   "file_extension": ".py",
   "mimetype": "text/x-python",
   "name": "python",
   "nbconvert_exporter": "python",
   "pygments_lexer": "ipython3",
   "version": "3.9.13"
  }
 },
 "nbformat": 4,
 "nbformat_minor": 5
}
