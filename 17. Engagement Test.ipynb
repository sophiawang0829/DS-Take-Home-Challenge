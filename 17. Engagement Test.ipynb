{
 "cells": [
  {
   "cell_type": "code",
   "execution_count": 1,
   "id": "ba44ffc9",
   "metadata": {},
   "outputs": [],
   "source": [
    "import numpy as np\n",
    "import pandas as pd\n",
    "\n",
    "import seaborn as sns\n",
    "import matplotlib.pylab as plt\n",
    "\n",
    "from scipy.stats import ttest_ind\n",
    "import scipy.stats as ss\n",
    "\n",
    "import warnings\n",
    "warnings.filterwarnings('ignore')"
   ]
  },
  {
   "cell_type": "markdown",
   "id": "92afcb83",
   "metadata": {},
   "source": [
    "### Import Data"
   ]
  },
  {
   "cell_type": "code",
   "execution_count": 2,
   "id": "f1495eb6",
   "metadata": {},
   "outputs": [
    {
     "data": {
      "text/html": [
       "<div>\n",
       "<style scoped>\n",
       "    .dataframe tbody tr th:only-of-type {\n",
       "        vertical-align: middle;\n",
       "    }\n",
       "\n",
       "    .dataframe tbody tr th {\n",
       "        vertical-align: top;\n",
       "    }\n",
       "\n",
       "    .dataframe thead th {\n",
       "        text-align: right;\n",
       "    }\n",
       "</style>\n",
       "<table border=\"1\" class=\"dataframe\">\n",
       "  <thead>\n",
       "    <tr style=\"text-align: right;\">\n",
       "      <th></th>\n",
       "      <th>user_id</th>\n",
       "      <th>date</th>\n",
       "      <th>browser</th>\n",
       "      <th>test</th>\n",
       "      <th>pages_visited</th>\n",
       "    </tr>\n",
       "  </thead>\n",
       "  <tbody>\n",
       "    <tr>\n",
       "      <th>0</th>\n",
       "      <td>600597</td>\n",
       "      <td>2015-08-13</td>\n",
       "      <td>IE</td>\n",
       "      <td>0</td>\n",
       "      <td>2</td>\n",
       "    </tr>\n",
       "    <tr>\n",
       "      <th>1</th>\n",
       "      <td>4410028</td>\n",
       "      <td>2015-08-26</td>\n",
       "      <td>Chrome</td>\n",
       "      <td>1</td>\n",
       "      <td>5</td>\n",
       "    </tr>\n",
       "    <tr>\n",
       "      <th>2</th>\n",
       "      <td>6004777</td>\n",
       "      <td>2015-08-17</td>\n",
       "      <td>Chrome</td>\n",
       "      <td>0</td>\n",
       "      <td>8</td>\n",
       "    </tr>\n",
       "    <tr>\n",
       "      <th>3</th>\n",
       "      <td>5990330</td>\n",
       "      <td>2015-08-27</td>\n",
       "      <td>Safari</td>\n",
       "      <td>0</td>\n",
       "      <td>8</td>\n",
       "    </tr>\n",
       "    <tr>\n",
       "      <th>4</th>\n",
       "      <td>3622310</td>\n",
       "      <td>2015-08-07</td>\n",
       "      <td>Firefox</td>\n",
       "      <td>0</td>\n",
       "      <td>1</td>\n",
       "    </tr>\n",
       "  </tbody>\n",
       "</table>\n",
       "</div>"
      ],
      "text/plain": [
       "   user_id       date  browser  test  pages_visited\n",
       "0   600597 2015-08-13       IE     0              2\n",
       "1  4410028 2015-08-26   Chrome     1              5\n",
       "2  6004777 2015-08-17   Chrome     0              8\n",
       "3  5990330 2015-08-27   Safari     0              8\n",
       "4  3622310 2015-08-07  Firefox     0              1"
      ]
     },
     "execution_count": 2,
     "metadata": {},
     "output_type": "execute_result"
    }
   ],
   "source": [
    "test = pd.read_csv('C:/Sophia/School!!!/2023 Spring 1/DS take home/17.engagement/test_table.csv', parse_dates=['date'])\n",
    "test.head()"
   ]
  },
  {
   "cell_type": "code",
   "execution_count": 3,
   "id": "eb03d3f2",
   "metadata": {},
   "outputs": [
    {
     "data": {
      "text/html": [
       "<div>\n",
       "<style scoped>\n",
       "    .dataframe tbody tr th:only-of-type {\n",
       "        vertical-align: middle;\n",
       "    }\n",
       "\n",
       "    .dataframe tbody tr th {\n",
       "        vertical-align: top;\n",
       "    }\n",
       "\n",
       "    .dataframe thead th {\n",
       "        text-align: right;\n",
       "    }\n",
       "</style>\n",
       "<table border=\"1\" class=\"dataframe\">\n",
       "  <thead>\n",
       "    <tr style=\"text-align: right;\">\n",
       "      <th></th>\n",
       "      <th>user_id</th>\n",
       "      <th>signup_date</th>\n",
       "    </tr>\n",
       "  </thead>\n",
       "  <tbody>\n",
       "    <tr>\n",
       "      <th>0</th>\n",
       "      <td>34</td>\n",
       "      <td>2015-01-01</td>\n",
       "    </tr>\n",
       "    <tr>\n",
       "      <th>1</th>\n",
       "      <td>59</td>\n",
       "      <td>2015-01-01</td>\n",
       "    </tr>\n",
       "    <tr>\n",
       "      <th>2</th>\n",
       "      <td>178</td>\n",
       "      <td>2015-01-01</td>\n",
       "    </tr>\n",
       "    <tr>\n",
       "      <th>3</th>\n",
       "      <td>285</td>\n",
       "      <td>2015-01-01</td>\n",
       "    </tr>\n",
       "    <tr>\n",
       "      <th>4</th>\n",
       "      <td>383</td>\n",
       "      <td>2015-01-01</td>\n",
       "    </tr>\n",
       "  </tbody>\n",
       "</table>\n",
       "</div>"
      ],
      "text/plain": [
       "   user_id signup_date\n",
       "0       34  2015-01-01\n",
       "1       59  2015-01-01\n",
       "2      178  2015-01-01\n",
       "3      285  2015-01-01\n",
       "4      383  2015-01-01"
      ]
     },
     "execution_count": 3,
     "metadata": {},
     "output_type": "execute_result"
    }
   ],
   "source": [
    "user = pd.read_csv('C:/Sophia/School!!!/2023 Spring 1/DS take home/17.engagement/user_table.csv', parse_dates=['signup_date'])\n",
    "user.head()"
   ]
  },
  {
   "cell_type": "code",
   "execution_count": 4,
   "id": "d8b01d7d",
   "metadata": {},
   "outputs": [
    {
     "data": {
      "text/html": [
       "<div>\n",
       "<style scoped>\n",
       "    .dataframe tbody tr th:only-of-type {\n",
       "        vertical-align: middle;\n",
       "    }\n",
       "\n",
       "    .dataframe tbody tr th {\n",
       "        vertical-align: top;\n",
       "    }\n",
       "\n",
       "    .dataframe thead th {\n",
       "        text-align: right;\n",
       "    }\n",
       "</style>\n",
       "<table border=\"1\" class=\"dataframe\">\n",
       "  <thead>\n",
       "    <tr style=\"text-align: right;\">\n",
       "      <th></th>\n",
       "      <th>user_id</th>\n",
       "      <th>date</th>\n",
       "      <th>browser</th>\n",
       "      <th>test</th>\n",
       "      <th>pages_visited</th>\n",
       "      <th>signup_date</th>\n",
       "    </tr>\n",
       "  </thead>\n",
       "  <tbody>\n",
       "    <tr>\n",
       "      <th>0</th>\n",
       "      <td>600597</td>\n",
       "      <td>2015-08-13</td>\n",
       "      <td>IE</td>\n",
       "      <td>0</td>\n",
       "      <td>2</td>\n",
       "      <td>2015-01-19</td>\n",
       "    </tr>\n",
       "    <tr>\n",
       "      <th>1</th>\n",
       "      <td>4410028</td>\n",
       "      <td>2015-08-26</td>\n",
       "      <td>Chrome</td>\n",
       "      <td>1</td>\n",
       "      <td>5</td>\n",
       "      <td>2015-05-11</td>\n",
       "    </tr>\n",
       "    <tr>\n",
       "      <th>2</th>\n",
       "      <td>6004777</td>\n",
       "      <td>2015-08-17</td>\n",
       "      <td>Chrome</td>\n",
       "      <td>0</td>\n",
       "      <td>8</td>\n",
       "      <td>2015-06-26</td>\n",
       "    </tr>\n",
       "    <tr>\n",
       "      <th>3</th>\n",
       "      <td>5990330</td>\n",
       "      <td>2015-08-27</td>\n",
       "      <td>Safari</td>\n",
       "      <td>0</td>\n",
       "      <td>8</td>\n",
       "      <td>2015-06-25</td>\n",
       "    </tr>\n",
       "    <tr>\n",
       "      <th>4</th>\n",
       "      <td>3622310</td>\n",
       "      <td>2015-08-07</td>\n",
       "      <td>Firefox</td>\n",
       "      <td>0</td>\n",
       "      <td>1</td>\n",
       "      <td>2015-04-17</td>\n",
       "    </tr>\n",
       "  </tbody>\n",
       "</table>\n",
       "</div>"
      ],
      "text/plain": [
       "   user_id       date  browser  test  pages_visited signup_date\n",
       "0   600597 2015-08-13       IE     0              2  2015-01-19\n",
       "1  4410028 2015-08-26   Chrome     1              5  2015-05-11\n",
       "2  6004777 2015-08-17   Chrome     0              8  2015-06-26\n",
       "3  5990330 2015-08-27   Safari     0              8  2015-06-25\n",
       "4  3622310 2015-08-07  Firefox     0              1  2015-04-17"
      ]
     },
     "execution_count": 4,
     "metadata": {},
     "output_type": "execute_result"
    }
   ],
   "source": [
    "# join user and test table\n",
    "data = pd.merge(left=test, right=user, on='user_id', how='left')\n",
    "data.head()"
   ]
  },
  {
   "cell_type": "code",
   "execution_count": 5,
   "id": "f00315fd",
   "metadata": {},
   "outputs": [
    {
     "name": "stdout",
     "output_type": "stream",
     "text": [
      "<class 'pandas.core.frame.DataFrame'>\n",
      "Int64Index: 100000 entries, 0 to 99999\n",
      "Data columns (total 6 columns):\n",
      " #   Column         Non-Null Count   Dtype         \n",
      "---  ------         --------------   -----         \n",
      " 0   user_id        100000 non-null  int64         \n",
      " 1   date           100000 non-null  datetime64[ns]\n",
      " 2   browser        100000 non-null  object        \n",
      " 3   test           100000 non-null  int64         \n",
      " 4   pages_visited  100000 non-null  int64         \n",
      " 5   signup_date    100000 non-null  datetime64[ns]\n",
      "dtypes: datetime64[ns](2), int64(3), object(1)\n",
      "memory usage: 5.3+ MB\n"
     ]
    }
   ],
   "source": [
    "data.info()"
   ]
  },
  {
   "cell_type": "markdown",
   "id": "08b691d1",
   "metadata": {},
   "source": [
    "### Question 1\n",
    "Is the test winning? That is, should 100% of the users see the Recommended Friends feature?"
   ]
  },
  {
   "cell_type": "code",
   "execution_count": 6,
   "id": "797c0836",
   "metadata": {},
   "outputs": [
    {
     "data": {
      "text/plain": [
       "test\n",
       "0    4.608394\n",
       "1    4.599693\n",
       "Name: pages_visited, dtype: float64"
      ]
     },
     "execution_count": 6,
     "metadata": {},
     "output_type": "execute_result"
    }
   ],
   "source": [
    "data.groupby('test')['pages_visited'].mean()"
   ]
  },
  {
   "cell_type": "code",
   "execution_count": 7,
   "id": "6bcea0fc",
   "metadata": {},
   "outputs": [
    {
     "data": {
      "image/png": "[encoded data removed]",
      "text/plain": [
       "<Figure size 800x500 with 1 Axes>"
      ]
     },
     "metadata": {},
     "output_type": "display_data"
    }
   ],
   "source": [
    "fig, ax = plt.subplots(figsize=(8, 5))\n",
    "sns.barplot(x='test', y='pages_visited', data=data, ax=ax)\n",
    "plt.tight_layout()\n",
    "plt.show()"
   ]
  },
  {
   "cell_type": "code",
   "execution_count": 8,
   "id": "860cc79f",
   "metadata": {},
   "outputs": [
    {
     "name": "stdout",
     "output_type": "stream",
     "text": [
      "T-test:\t Ttest_indResult(statistic=0.5571118435554797, pvalue=0.5774523171559118)\n"
     ]
    }
   ],
   "source": [
    "# perform student's t-test\n",
    "control_page = data[data['test'] == 0]['pages_visited'].values\n",
    "experiment_page = data[data['test'] == 1]['pages_visited'].values\n",
    "\n",
    "print('T-test:\\t', ttest_ind(a=control_page, b=experiment_page, equal_var=False))"
   ]
  },
  {
   "cell_type": "markdown",
   "id": "7a210f99",
   "metadata": {},
   "source": [
    "From above analysis, we can find that p-value is 0.577, which is larger than 0.05, so we cannot reject the null hypothesis. That is, there is no difference between control and experiment group.\n",
    "\n",
    "Hence, the test doesn't win at tall. The Recommended Friends feature shouldn't expand to all users."
   ]
  },
  {
   "cell_type": "markdown",
   "id": "cbf61a01",
   "metadata": {},
   "source": [
    "### Question 2\n",
    "Is the test performing similarly for all user segments or are there differences among different segments?"
   ]
  },
  {
   "cell_type": "code",
   "execution_count": 9,
   "id": "483b40b8",
   "metadata": {
    "scrolled": true
   },
   "outputs": [
    {
     "data": {
      "text/html": [
       "<div>\n",
       "<style scoped>\n",
       "    .dataframe tbody tr th:only-of-type {\n",
       "        vertical-align: middle;\n",
       "    }\n",
       "\n",
       "    .dataframe tbody tr th {\n",
       "        vertical-align: top;\n",
       "    }\n",
       "\n",
       "    .dataframe thead th {\n",
       "        text-align: right;\n",
       "    }\n",
       "</style>\n",
       "<table border=\"1\" class=\"dataframe\">\n",
       "  <thead>\n",
       "    <tr style=\"text-align: right;\">\n",
       "      <th></th>\n",
       "      <th>user_id</th>\n",
       "      <th>date</th>\n",
       "      <th>browser</th>\n",
       "      <th>test</th>\n",
       "      <th>pages_visited</th>\n",
       "      <th>signup_date</th>\n",
       "      <th>interval</th>\n",
       "      <th>is_first</th>\n",
       "      <th>dayofweek</th>\n",
       "    </tr>\n",
       "  </thead>\n",
       "  <tbody>\n",
       "    <tr>\n",
       "      <th>0</th>\n",
       "      <td>600597</td>\n",
       "      <td>2015-08-13</td>\n",
       "      <td>IE</td>\n",
       "      <td>0</td>\n",
       "      <td>2</td>\n",
       "      <td>2015-01-19</td>\n",
       "      <td>206</td>\n",
       "      <td>0</td>\n",
       "      <td>3</td>\n",
       "    </tr>\n",
       "    <tr>\n",
       "      <th>1</th>\n",
       "      <td>4410028</td>\n",
       "      <td>2015-08-26</td>\n",
       "      <td>Chrome</td>\n",
       "      <td>1</td>\n",
       "      <td>5</td>\n",
       "      <td>2015-05-11</td>\n",
       "      <td>107</td>\n",
       "      <td>0</td>\n",
       "      <td>2</td>\n",
       "    </tr>\n",
       "    <tr>\n",
       "      <th>2</th>\n",
       "      <td>6004777</td>\n",
       "      <td>2015-08-17</td>\n",
       "      <td>Chrome</td>\n",
       "      <td>0</td>\n",
       "      <td>8</td>\n",
       "      <td>2015-06-26</td>\n",
       "      <td>52</td>\n",
       "      <td>0</td>\n",
       "      <td>0</td>\n",
       "    </tr>\n",
       "    <tr>\n",
       "      <th>3</th>\n",
       "      <td>5990330</td>\n",
       "      <td>2015-08-27</td>\n",
       "      <td>Safari</td>\n",
       "      <td>0</td>\n",
       "      <td>8</td>\n",
       "      <td>2015-06-25</td>\n",
       "      <td>63</td>\n",
       "      <td>0</td>\n",
       "      <td>3</td>\n",
       "    </tr>\n",
       "    <tr>\n",
       "      <th>4</th>\n",
       "      <td>3622310</td>\n",
       "      <td>2015-08-07</td>\n",
       "      <td>Firefox</td>\n",
       "      <td>0</td>\n",
       "      <td>1</td>\n",
       "      <td>2015-04-17</td>\n",
       "      <td>112</td>\n",
       "      <td>0</td>\n",
       "      <td>4</td>\n",
       "    </tr>\n",
       "  </tbody>\n",
       "</table>\n",
       "</div>"
      ],
      "text/plain": [
       "   user_id       date  browser  test  pages_visited signup_date  interval  \\\n",
       "0   600597 2015-08-13       IE     0              2  2015-01-19       206   \n",
       "1  4410028 2015-08-26   Chrome     1              5  2015-05-11       107   \n",
       "2  6004777 2015-08-17   Chrome     0              8  2015-06-26        52   \n",
       "3  5990330 2015-08-27   Safari     0              8  2015-06-25        63   \n",
       "4  3622310 2015-08-07  Firefox     0              1  2015-04-17       112   \n",
       "\n",
       "   is_first  dayofweek  \n",
       "0         0          3  \n",
       "1         0          2  \n",
       "2         0          0  \n",
       "3         0          3  \n",
       "4         0          4  "
      ]
     },
     "execution_count": 9,
     "metadata": {},
     "output_type": "execute_result"
    }
   ],
   "source": [
    "data['interval'] = (data['date'] - data['signup_date']).apply(lambda x: x.days)\n",
    "data['is_first'] = (data['interval'] == 0).astype(int)\n",
    "data['dayofweek'] = data['date'].apply(lambda x: x.dayofweek)\n",
    "\n",
    "data.head()"
   ]
  },
  {
   "cell_type": "code",
   "execution_count": 10,
   "id": "f7dbed2a",
   "metadata": {},
   "outputs": [],
   "source": [
    "def run_ttest(df):\n",
    "    vp_in_test = df.loc[data.test == 1, 'pages_visited']\n",
    "    test_mean = vp_in_test.mean()\n",
    "    \n",
    "    vp_in_ctrl = df.loc[data.test == 0, 'pages_visited']\n",
    "    ctrl_mean = vp_in_ctrl.mean()\n",
    "    \n",
    "    result = ss.ttest_ind(vp_in_ctrl, vp_in_test, equal_var=False)\n",
    "    conclusion = 'Significant' if result.pvalue < 0.05 else 'Not Significant'\n",
    "    \n",
    "    return pd.Series({'n_test':vp_in_test.shape[0],\n",
    "                      'n_ctrl': vp_in_ctrl.shape[0],\n",
    "                      'mean_test': test_mean,\n",
    "                      'mean_ctrl': ctrl_mean,\n",
    "                      'test-ctrl': test_mean - ctrl_mean,\n",
    "                      'pvalue':result.pvalue,\n",
    "                      'conclusion':conclusion})"
   ]
  },
  {
   "cell_type": "code",
   "execution_count": 11,
   "id": "523890c3",
   "metadata": {},
   "outputs": [
    {
     "data": {
      "image/png": "[encoded data removed]",
      "text/plain": [
       "<Figure size 1800x600 with 2 Axes>"
      ]
     },
     "metadata": {},
     "output_type": "display_data"
    }
   ],
   "source": [
    "# visualization of browser\n",
    "fig, ax = plt.subplots(nrows=1, ncols=2, figsize=(18, 6))\n",
    "sns.countplot(x='browser', hue='test', data=data, ax=ax[0])\n",
    "ax[0].set_title('Box Plot of browser', fontsize=16)\n",
    "\n",
    "sns.barplot(x='browser', y='pages_visited', hue='test', data=data, ax=ax[1])\n",
    "ax[1].set_title('Pages Visited vs. browser', fontsize=16)\n",
    "plt.tight_layout()\n",
    "plt.show()"
   ]
  },
  {
   "cell_type": "code",
   "execution_count": 12,
   "id": "2b06cb65",
   "metadata": {
    "scrolled": true
   },
   "outputs": [
    {
     "data": {
      "text/html": [
       "<div>\n",
       "<style scoped>\n",
       "    .dataframe tbody tr th:only-of-type {\n",
       "        vertical-align: middle;\n",
       "    }\n",
       "\n",
       "    .dataframe tbody tr th {\n",
       "        vertical-align: top;\n",
       "    }\n",
       "\n",
       "    .dataframe thead th {\n",
       "        text-align: right;\n",
       "    }\n",
       "</style>\n",
       "<table border=\"1\" class=\"dataframe\">\n",
       "  <thead>\n",
       "    <tr style=\"text-align: right;\">\n",
       "      <th></th>\n",
       "      <th>n_test</th>\n",
       "      <th>n_ctrl</th>\n",
       "      <th>mean_test</th>\n",
       "      <th>mean_ctrl</th>\n",
       "      <th>test-ctrl</th>\n",
       "      <th>pvalue</th>\n",
       "      <th>conclusion</th>\n",
       "    </tr>\n",
       "    <tr>\n",
       "      <th>browser</th>\n",
       "      <th></th>\n",
       "      <th></th>\n",
       "      <th></th>\n",
       "      <th></th>\n",
       "      <th></th>\n",
       "      <th></th>\n",
       "      <th></th>\n",
       "    </tr>\n",
       "  </thead>\n",
       "  <tbody>\n",
       "    <tr>\n",
       "      <th>Chrome</th>\n",
       "      <td>21974</td>\n",
       "      <td>21453</td>\n",
       "      <td>4.690680</td>\n",
       "      <td>4.613341</td>\n",
       "      <td>0.077339</td>\n",
       "      <td>9.434084e-04</td>\n",
       "      <td>Significant</td>\n",
       "    </tr>\n",
       "    <tr>\n",
       "      <th>Firefox</th>\n",
       "      <td>10786</td>\n",
       "      <td>10972</td>\n",
       "      <td>4.714259</td>\n",
       "      <td>4.600164</td>\n",
       "      <td>0.114095</td>\n",
       "      <td>5.817199e-04</td>\n",
       "      <td>Significant</td>\n",
       "    </tr>\n",
       "    <tr>\n",
       "      <th>IE</th>\n",
       "      <td>10974</td>\n",
       "      <td>10906</td>\n",
       "      <td>4.685985</td>\n",
       "      <td>4.598478</td>\n",
       "      <td>0.087507</td>\n",
       "      <td>7.829509e-03</td>\n",
       "      <td>Significant</td>\n",
       "    </tr>\n",
       "    <tr>\n",
       "      <th>Opera</th>\n",
       "      <td>1018</td>\n",
       "      <td>1109</td>\n",
       "      <td>0.000000</td>\n",
       "      <td>4.546438</td>\n",
       "      <td>-4.546438</td>\n",
       "      <td>2.252939e-321</td>\n",
       "      <td>Significant</td>\n",
       "    </tr>\n",
       "    <tr>\n",
       "      <th>Safari</th>\n",
       "      <td>5402</td>\n",
       "      <td>5406</td>\n",
       "      <td>4.692336</td>\n",
       "      <td>4.638180</td>\n",
       "      <td>0.054156</td>\n",
       "      <td>2.411738e-01</td>\n",
       "      <td>Not Significant</td>\n",
       "    </tr>\n",
       "  </tbody>\n",
       "</table>\n",
       "</div>"
      ],
      "text/plain": [
       "         n_test  n_ctrl  mean_test  mean_ctrl  test-ctrl         pvalue  \\\n",
       "browser                                                                   \n",
       "Chrome    21974   21453   4.690680   4.613341   0.077339   9.434084e-04   \n",
       "Firefox   10786   10972   4.714259   4.600164   0.114095   5.817199e-04   \n",
       "IE        10974   10906   4.685985   4.598478   0.087507   7.829509e-03   \n",
       "Opera      1018    1109   0.000000   4.546438  -4.546438  2.252939e-321   \n",
       "Safari     5402    5406   4.692336   4.638180   0.054156   2.411738e-01   \n",
       "\n",
       "              conclusion  \n",
       "browser                   \n",
       "Chrome       Significant  \n",
       "Firefox      Significant  \n",
       "IE           Significant  \n",
       "Opera        Significant  \n",
       "Safari   Not Significant  "
      ]
     },
     "execution_count": 12,
     "metadata": {},
     "output_type": "execute_result"
    }
   ],
   "source": [
    "data.groupby('browser').apply(run_ttest)"
   ]
  },
  {
   "cell_type": "markdown",
   "id": "b729b838",
   "metadata": {},
   "source": [
    "- page_visited in Chrome, Firefox, IE are significantly increased.\n",
    "- page_visited in Opera has reduced to zero, maybe there is some bug in implementation on Opera, which stops user visiting further pages.\n",
    "- page_visited in Safari has no significant improvement, maybe because the recommended friends aren't shown in a noticeable position."
   ]
  },
  {
   "cell_type": "code",
   "execution_count": 13,
   "id": "1a145460",
   "metadata": {},
   "outputs": [
    {
     "data": {
      "image/png": "[encoded data removed]",
      "text/plain": [
       "<Figure size 1800x600 with 2 Axes>"
      ]
     },
     "metadata": {},
     "output_type": "display_data"
    }
   ],
   "source": [
    "# visualization of is_first\n",
    "fig, ax = plt.subplots(nrows=1, ncols=2, figsize=(18, 6))\n",
    "sns.countplot(x='is_first', hue='test', data=data, ax=ax[0])\n",
    "ax[0].set_title('Box Plot of is_first', fontsize=16)\n",
    "\n",
    "sns.barplot(x='is_first', y='pages_visited', hue='test', data=data, ax=ax[1])\n",
    "ax[1].set_title('Pages Visited vs. is_first', fontsize=16)\n",
    "plt.tight_layout()\n",
    "plt.show()"
   ]
  },
  {
   "cell_type": "code",
   "execution_count": 14,
   "id": "a346dbf5",
   "metadata": {
    "scrolled": true
   },
   "outputs": [
    {
     "data": {
      "text/html": [
       "<div>\n",
       "<style scoped>\n",
       "    .dataframe tbody tr th:only-of-type {\n",
       "        vertical-align: middle;\n",
       "    }\n",
       "\n",
       "    .dataframe tbody tr th {\n",
       "        vertical-align: top;\n",
       "    }\n",
       "\n",
       "    .dataframe thead th {\n",
       "        text-align: right;\n",
       "    }\n",
       "</style>\n",
       "<table border=\"1\" class=\"dataframe\">\n",
       "  <thead>\n",
       "    <tr style=\"text-align: right;\">\n",
       "      <th></th>\n",
       "      <th>n_test</th>\n",
       "      <th>n_ctrl</th>\n",
       "      <th>mean_test</th>\n",
       "      <th>mean_ctrl</th>\n",
       "      <th>test-ctrl</th>\n",
       "      <th>pvalue</th>\n",
       "      <th>conclusion</th>\n",
       "    </tr>\n",
       "    <tr>\n",
       "      <th>is_first</th>\n",
       "      <th></th>\n",
       "      <th></th>\n",
       "      <th></th>\n",
       "      <th></th>\n",
       "      <th></th>\n",
       "      <th></th>\n",
       "      <th></th>\n",
       "    </tr>\n",
       "  </thead>\n",
       "  <tbody>\n",
       "    <tr>\n",
       "      <th>0</th>\n",
       "      <td>40109</td>\n",
       "      <td>39890</td>\n",
       "      <td>4.622379</td>\n",
       "      <td>4.603284</td>\n",
       "      <td>0.019095</td>\n",
       "      <td>0.261837</td>\n",
       "      <td>Not Significant</td>\n",
       "    </tr>\n",
       "    <tr>\n",
       "      <th>1</th>\n",
       "      <td>10045</td>\n",
       "      <td>9956</td>\n",
       "      <td>4.509109</td>\n",
       "      <td>4.628867</td>\n",
       "      <td>-0.119758</td>\n",
       "      <td>0.001742</td>\n",
       "      <td>Significant</td>\n",
       "    </tr>\n",
       "  </tbody>\n",
       "</table>\n",
       "</div>"
      ],
      "text/plain": [
       "          n_test  n_ctrl  mean_test  mean_ctrl  test-ctrl    pvalue  \\\n",
       "is_first                                                              \n",
       "0          40109   39890   4.622379   4.603284   0.019095  0.261837   \n",
       "1          10045    9956   4.509109   4.628867  -0.119758  0.001742   \n",
       "\n",
       "               conclusion  \n",
       "is_first                   \n",
       "0         Not Significant  \n",
       "1             Significant  "
      ]
     },
     "execution_count": 14,
     "metadata": {},
     "output_type": "execute_result"
    }
   ],
   "source": [
    "data.groupby('is_first').apply(run_ttest)"
   ]
  },
  {
   "cell_type": "markdown",
   "id": "f3050dfb",
   "metadata": {},
   "source": [
    "- For old users, the new feature improve # of page_visted, but the change isn't significant\n",
    "- For first-time new users, this new feature significantly decrease # of page_visited."
   ]
  },
  {
   "cell_type": "code",
   "execution_count": 15,
   "id": "ce312550",
   "metadata": {},
   "outputs": [
    {
     "data": {
      "image/png": "[encoded data removed]",
      "text/plain": [
       "<Figure size 1800x600 with 2 Axes>"
      ]
     },
     "metadata": {},
     "output_type": "display_data"
    }
   ],
   "source": [
    "# visualization of dayofweek\n",
    "fig, ax = plt.subplots(nrows=1, ncols=2, figsize=(18, 6))\n",
    "sns.countplot(x='dayofweek', hue='test', data=data, ax=ax[0])\n",
    "ax[0].set_title('Box Plot of dayofweek', fontsize=16)\n",
    "\n",
    "sns.barplot(x='dayofweek', y='pages_visited', hue='test', data=data, ax=ax[1])\n",
    "ax[1].set_title('Pages Visited vs. dayofweek', fontsize=16)\n",
    "plt.tight_layout()\n",
    "plt.show()"
   ]
  },
  {
   "cell_type": "markdown",
   "id": "1ecf6b2f",
   "metadata": {},
   "source": [
    "### Question 3\n",
    "If you identified segments that responded differently to the test, can you guess the reason? Would this change your point 1 conclusions?"
   ]
  },
  {
   "cell_type": "markdown",
   "id": "a71184d4",
   "metadata": {},
   "source": [
    "The number of pages visited is always 0 for Opera, which shows that there might be some errors or bugs. We remove the user who use Opera, and conduct t-test again."
   ]
  },
  {
   "cell_type": "code",
   "execution_count": 16,
   "id": "25734f83",
   "metadata": {},
   "outputs": [],
   "source": [
    "data = data[data['browser'] != 'Opera']"
   ]
  },
  {
   "cell_type": "code",
   "execution_count": 17,
   "id": "d222a50e",
   "metadata": {},
   "outputs": [
    {
     "data": {
      "text/plain": [
       "n_test              49136\n",
       "n_ctrl              48737\n",
       "mean_test        4.694989\n",
       "mean_ctrl        4.609804\n",
       "test-ctrl        0.085186\n",
       "pvalue                0.0\n",
       "conclusion    Significant\n",
       "dtype: object"
      ]
     },
     "execution_count": 17,
     "metadata": {},
     "output_type": "execute_result"
    }
   ],
   "source": [
    "run_ttest(data)"
   ]
  },
  {
   "cell_type": "markdown",
   "id": "46270453",
   "metadata": {},
   "source": [
    "It's clear that after removing the records with Opera browser, the new feature becomes significantly useful. Hence, we would suggest expanding this feature to other users."
   ]
  },
  {
   "cell_type": "code",
   "execution_count": 18,
   "id": "e25d21a4",
   "metadata": {},
   "outputs": [
    {
     "data": {
      "text/html": [
       "<div>\n",
       "<style scoped>\n",
       "    .dataframe tbody tr th:only-of-type {\n",
       "        vertical-align: middle;\n",
       "    }\n",
       "\n",
       "    .dataframe tbody tr th {\n",
       "        vertical-align: top;\n",
       "    }\n",
       "\n",
       "    .dataframe thead th {\n",
       "        text-align: right;\n",
       "    }\n",
       "</style>\n",
       "<table border=\"1\" class=\"dataframe\">\n",
       "  <thead>\n",
       "    <tr style=\"text-align: right;\">\n",
       "      <th></th>\n",
       "      <th>n_test</th>\n",
       "      <th>n_ctrl</th>\n",
       "      <th>mean_test</th>\n",
       "      <th>mean_ctrl</th>\n",
       "      <th>test-ctrl</th>\n",
       "      <th>pvalue</th>\n",
       "      <th>conclusion</th>\n",
       "    </tr>\n",
       "    <tr>\n",
       "      <th>browser</th>\n",
       "      <th></th>\n",
       "      <th></th>\n",
       "      <th></th>\n",
       "      <th></th>\n",
       "      <th></th>\n",
       "      <th></th>\n",
       "      <th></th>\n",
       "    </tr>\n",
       "  </thead>\n",
       "  <tbody>\n",
       "    <tr>\n",
       "      <th>Chrome</th>\n",
       "      <td>21974</td>\n",
       "      <td>21453</td>\n",
       "      <td>4.690680</td>\n",
       "      <td>4.613341</td>\n",
       "      <td>0.077339</td>\n",
       "      <td>0.000943</td>\n",
       "      <td>Significant</td>\n",
       "    </tr>\n",
       "    <tr>\n",
       "      <th>Firefox</th>\n",
       "      <td>10786</td>\n",
       "      <td>10972</td>\n",
       "      <td>4.714259</td>\n",
       "      <td>4.600164</td>\n",
       "      <td>0.114095</td>\n",
       "      <td>0.000582</td>\n",
       "      <td>Significant</td>\n",
       "    </tr>\n",
       "    <tr>\n",
       "      <th>IE</th>\n",
       "      <td>10974</td>\n",
       "      <td>10906</td>\n",
       "      <td>4.685985</td>\n",
       "      <td>4.598478</td>\n",
       "      <td>0.087507</td>\n",
       "      <td>0.007830</td>\n",
       "      <td>Significant</td>\n",
       "    </tr>\n",
       "    <tr>\n",
       "      <th>Safari</th>\n",
       "      <td>5402</td>\n",
       "      <td>5406</td>\n",
       "      <td>4.692336</td>\n",
       "      <td>4.638180</td>\n",
       "      <td>0.054156</td>\n",
       "      <td>0.241174</td>\n",
       "      <td>Not Significant</td>\n",
       "    </tr>\n",
       "  </tbody>\n",
       "</table>\n",
       "</div>"
      ],
      "text/plain": [
       "         n_test  n_ctrl  mean_test  mean_ctrl  test-ctrl    pvalue  \\\n",
       "browser                                                              \n",
       "Chrome    21974   21453   4.690680   4.613341   0.077339  0.000943   \n",
       "Firefox   10786   10972   4.714259   4.600164   0.114095  0.000582   \n",
       "IE        10974   10906   4.685985   4.598478   0.087507  0.007830   \n",
       "Safari     5402    5406   4.692336   4.638180   0.054156  0.241174   \n",
       "\n",
       "              conclusion  \n",
       "browser                   \n",
       "Chrome       Significant  \n",
       "Firefox      Significant  \n",
       "IE           Significant  \n",
       "Safari   Not Significant  "
      ]
     },
     "execution_count": 18,
     "metadata": {},
     "output_type": "execute_result"
    }
   ],
   "source": [
    "data.groupby('browser').apply(run_ttest)"
   ]
  },
  {
   "cell_type": "code",
   "execution_count": 19,
   "id": "837b2a18",
   "metadata": {},
   "outputs": [
    {
     "data": {
      "text/html": [
       "<div>\n",
       "<style scoped>\n",
       "    .dataframe tbody tr th:only-of-type {\n",
       "        vertical-align: middle;\n",
       "    }\n",
       "\n",
       "    .dataframe tbody tr th {\n",
       "        vertical-align: top;\n",
       "    }\n",
       "\n",
       "    .dataframe thead th {\n",
       "        text-align: right;\n",
       "    }\n",
       "</style>\n",
       "<table border=\"1\" class=\"dataframe\">\n",
       "  <thead>\n",
       "    <tr style=\"text-align: right;\">\n",
       "      <th></th>\n",
       "      <th></th>\n",
       "      <th>n_test</th>\n",
       "      <th>n_ctrl</th>\n",
       "      <th>mean_test</th>\n",
       "      <th>mean_ctrl</th>\n",
       "      <th>test-ctrl</th>\n",
       "      <th>pvalue</th>\n",
       "      <th>conclusion</th>\n",
       "    </tr>\n",
       "    <tr>\n",
       "      <th>browser</th>\n",
       "      <th>is_first</th>\n",
       "      <th></th>\n",
       "      <th></th>\n",
       "      <th></th>\n",
       "      <th></th>\n",
       "      <th></th>\n",
       "      <th></th>\n",
       "      <th></th>\n",
       "    </tr>\n",
       "  </thead>\n",
       "  <tbody>\n",
       "    <tr>\n",
       "      <th rowspan=\"2\" valign=\"top\">Chrome</th>\n",
       "      <th>0</th>\n",
       "      <td>17525</td>\n",
       "      <td>17092</td>\n",
       "      <td>4.701512</td>\n",
       "      <td>4.607945</td>\n",
       "      <td>0.093567</td>\n",
       "      <td>0.000229</td>\n",
       "      <td>Significant</td>\n",
       "    </tr>\n",
       "    <tr>\n",
       "      <th>1</th>\n",
       "      <td>4449</td>\n",
       "      <td>4361</td>\n",
       "      <td>4.648011</td>\n",
       "      <td>4.634488</td>\n",
       "      <td>0.013523</td>\n",
       "      <td>0.814918</td>\n",
       "      <td>Not Significant</td>\n",
       "    </tr>\n",
       "    <tr>\n",
       "      <th rowspan=\"2\" valign=\"top\">Firefox</th>\n",
       "      <th>0</th>\n",
       "      <td>8657</td>\n",
       "      <td>8842</td>\n",
       "      <td>4.757306</td>\n",
       "      <td>4.590590</td>\n",
       "      <td>0.166716</td>\n",
       "      <td>0.000004</td>\n",
       "      <td>Significant</td>\n",
       "    </tr>\n",
       "    <tr>\n",
       "      <th>1</th>\n",
       "      <td>2129</td>\n",
       "      <td>2130</td>\n",
       "      <td>4.539220</td>\n",
       "      <td>4.639906</td>\n",
       "      <td>-0.100686</td>\n",
       "      <td>0.221071</td>\n",
       "      <td>Not Significant</td>\n",
       "    </tr>\n",
       "    <tr>\n",
       "      <th rowspan=\"2\" valign=\"top\">IE</th>\n",
       "      <th>0</th>\n",
       "      <td>8779</td>\n",
       "      <td>8744</td>\n",
       "      <td>4.721494</td>\n",
       "      <td>4.590576</td>\n",
       "      <td>0.130918</td>\n",
       "      <td>0.000267</td>\n",
       "      <td>Significant</td>\n",
       "    </tr>\n",
       "    <tr>\n",
       "      <th>1</th>\n",
       "      <td>2195</td>\n",
       "      <td>2162</td>\n",
       "      <td>4.543964</td>\n",
       "      <td>4.630435</td>\n",
       "      <td>-0.086471</td>\n",
       "      <td>0.280842</td>\n",
       "      <td>Not Significant</td>\n",
       "    </tr>\n",
       "    <tr>\n",
       "      <th rowspan=\"2\" valign=\"top\">Safari</th>\n",
       "      <th>0</th>\n",
       "      <td>4315</td>\n",
       "      <td>4329</td>\n",
       "      <td>4.720973</td>\n",
       "      <td>4.638254</td>\n",
       "      <td>0.082720</td>\n",
       "      <td>0.100083</td>\n",
       "      <td>Not Significant</td>\n",
       "    </tr>\n",
       "    <tr>\n",
       "      <th>1</th>\n",
       "      <td>1087</td>\n",
       "      <td>1077</td>\n",
       "      <td>4.578657</td>\n",
       "      <td>4.637883</td>\n",
       "      <td>-0.059226</td>\n",
       "      <td>0.601524</td>\n",
       "      <td>Not Significant</td>\n",
       "    </tr>\n",
       "  </tbody>\n",
       "</table>\n",
       "</div>"
      ],
      "text/plain": [
       "                  n_test  n_ctrl  mean_test  mean_ctrl  test-ctrl    pvalue  \\\n",
       "browser is_first                                                              \n",
       "Chrome  0          17525   17092   4.701512   4.607945   0.093567  0.000229   \n",
       "        1           4449    4361   4.648011   4.634488   0.013523  0.814918   \n",
       "Firefox 0           8657    8842   4.757306   4.590590   0.166716  0.000004   \n",
       "        1           2129    2130   4.539220   4.639906  -0.100686  0.221071   \n",
       "IE      0           8779    8744   4.721494   4.590576   0.130918  0.000267   \n",
       "        1           2195    2162   4.543964   4.630435  -0.086471  0.280842   \n",
       "Safari  0           4315    4329   4.720973   4.638254   0.082720  0.100083   \n",
       "        1           1087    1077   4.578657   4.637883  -0.059226  0.601524   \n",
       "\n",
       "                       conclusion  \n",
       "browser is_first                   \n",
       "Chrome  0             Significant  \n",
       "        1         Not Significant  \n",
       "Firefox 0             Significant  \n",
       "        1         Not Significant  \n",
       "IE      0             Significant  \n",
       "        1         Not Significant  \n",
       "Safari  0         Not Significant  \n",
       "        1         Not Significant  "
      ]
     },
     "execution_count": 19,
     "metadata": {},
     "output_type": "execute_result"
    }
   ],
   "source": [
    "data.groupby(['browser','is_first']).apply(run_ttest)"
   ]
  },
  {
   "cell_type": "markdown",
   "id": "a8b236f9",
   "metadata": {},
   "source": [
    "Besides Opera which may have a bug, all changes for new users are not significant, and there is even some drop after applying this new feature.\n",
    "\n",
    "This may because: the friend recommendation engine may be based on a user's previous social activity on the site. then for new users, since they don't have any previous history for recommendation engine to use, the recommendation result is like random guess, which cannot draw new user's interest. But the recommended friends may occupy some space on the page, so it may even decrease the #page_visited for new users a little bit.\n",
    "\n",
    "From this observation, we suspect the Recommedation Engine suffers 'the cold start' problem."
   ]
  }
 ],
 "metadata": {
  "kernelspec": {
   "display_name": "Python 3 (ipykernel)",
   "language": "python",
   "name": "python3"
  },
  "language_info": {
   "codemirror_mode": {
    "name": "ipython",
    "version": 3
   },
   "file_extension": ".py",
   "mimetype": "text/x-python",
   "name": "python",
   "nbconvert_exporter": "python",
   "pygments_lexer": "ipython3",
   "version": "3.9.13"
  }
 },
 "nbformat": 4,
 "nbformat_minor": 5
}
