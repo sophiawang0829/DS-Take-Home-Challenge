{
 "cells": [
  {
   "cell_type": "code",
   "execution_count": 1,
   "id": "fcb2480b",
   "metadata": {},
   "outputs": [],
   "source": [
    "import numpy as np\n",
    "import pandas as pd\n",
    "\n",
    "import seaborn as sns\n",
    "import matplotlib.pylab as plt\n",
    "\n",
    "import warnings\n",
    "warnings.filterwarnings('ignore')"
   ]
  },
  {
   "cell_type": "markdown",
   "id": "fff1a7ca",
   "metadata": {},
   "source": [
    "### Question 1\n",
    "Create a clean data set where each column is a field in the URL, each row is a given search and the cells are the corresponding URL values."
   ]
  },
  {
   "cell_type": "code",
   "execution_count": 2,
   "id": "3ac1572d",
   "metadata": {},
   "outputs": [
    {
     "data": {
      "text/plain": [
       "50"
      ]
     },
     "execution_count": 2,
     "metadata": {},
     "output_type": "execute_result"
    }
   ],
   "source": [
    "len('http://www.mysearchforhotels.com/shop/hotelsearch?')"
   ]
  },
  {
   "cell_type": "code",
   "execution_count": 3,
   "id": "73877ee2",
   "metadata": {},
   "outputs": [
    {
     "name": "stdout",
     "output_type": "stream",
     "text": [
      "Total Records:\t 77677\n"
     ]
    }
   ],
   "source": [
    "with open('C:/Sophia/School!!!/2023 Spring 1/DS take home/16.Hotel_Search/url_list.txt') as f:\n",
    "    lines = f.readlines()\n",
    "    \n",
    "print('Total Records:\\t', len(lines))"
   ]
  },
  {
   "cell_type": "code",
   "execution_count": 4,
   "id": "b4ac917e",
   "metadata": {},
   "outputs": [],
   "source": [
    "def parse_search(lines):\n",
    "    \"\"\" function to parse user's search history \"\"\"\n",
    "    length = len(lines)\n",
    "    names = ['checkin', 'checkout', 'customMinimumPriceFilter', \n",
    "             'customMaximumPriceFilter', 'freeCancellation', 'stars_5', \n",
    "             'stars_4', 'stars_3', 'stars_2', 'stars_1', 'max_score', \n",
    "             'min_score', 'couponCode', 'adults', 'city', 'children', \n",
    "             'amenities', 'search_page']\n",
    "    \n",
    "    maps = {}\n",
    "    for name in names:\n",
    "        maps[name] = [np.nan] * length\n",
    "      \n",
    "    for i in range(length):\n",
    "        line = lines[i]\n",
    "        items = line[50:].strip().split('&')\n",
    "        visited = set()\n",
    "        for item in items:\n",
    "            key, value = item.strip().split('=')\n",
    "            key = key.strip().split('.')[1]\n",
    "            if key == 'city':\n",
    "                value = value.strip().replace('+', ' ')\n",
    "            if key not in visited:\n",
    "                maps[key][i] = value\n",
    "                visited.add(key)\n",
    "            else:\n",
    "                maps[key][i] = maps[key][i] + ', ' + value\n",
    "            \n",
    "    # transform into DataFrame\n",
    "    df = pd.DataFrame(maps, columns=names)\n",
    "    df['checkin'] = pd.to_datetime(df['checkin'])\n",
    "    df['checkout'] = pd.to_datetime(df['checkout'])\n",
    "    df = df.rename(columns={'customMinimumPriceFilter': 'MinPrice', \n",
    "                            'customMaximumPriceFilter': 'MaxPrice'})\n",
    "    \n",
    "    return df"
   ]
  },
  {
   "cell_type": "code",
   "execution_count": 5,
   "id": "9eba50a2",
   "metadata": {},
   "outputs": [
    {
     "data": {
      "text/html": [
       "<div>\n",
       "<style scoped>\n",
       "    .dataframe tbody tr th:only-of-type {\n",
       "        vertical-align: middle;\n",
       "    }\n",
       "\n",
       "    .dataframe tbody tr th {\n",
       "        vertical-align: top;\n",
       "    }\n",
       "\n",
       "    .dataframe thead th {\n",
       "        text-align: right;\n",
       "    }\n",
       "</style>\n",
       "<table border=\"1\" class=\"dataframe\">\n",
       "  <thead>\n",
       "    <tr style=\"text-align: right;\">\n",
       "      <th></th>\n",
       "      <th>checkin</th>\n",
       "      <th>checkout</th>\n",
       "      <th>MinPrice</th>\n",
       "      <th>MaxPrice</th>\n",
       "      <th>freeCancellation</th>\n",
       "      <th>stars_5</th>\n",
       "      <th>stars_4</th>\n",
       "      <th>stars_3</th>\n",
       "      <th>stars_2</th>\n",
       "      <th>stars_1</th>\n",
       "      <th>max_score</th>\n",
       "      <th>min_score</th>\n",
       "      <th>couponCode</th>\n",
       "      <th>adults</th>\n",
       "      <th>city</th>\n",
       "      <th>children</th>\n",
       "      <th>amenities</th>\n",
       "      <th>search_page</th>\n",
       "    </tr>\n",
       "  </thead>\n",
       "  <tbody>\n",
       "    <tr>\n",
       "      <th>0</th>\n",
       "      <td>2015-09-19</td>\n",
       "      <td>2015-09-20</td>\n",
       "      <td>NaN</td>\n",
       "      <td>NaN</td>\n",
       "      <td>NaN</td>\n",
       "      <td>NaN</td>\n",
       "      <td>yes</td>\n",
       "      <td>NaN</td>\n",
       "      <td>NaN</td>\n",
       "      <td>NaN</td>\n",
       "      <td>NaN</td>\n",
       "      <td>4</td>\n",
       "      <td>NaN</td>\n",
       "      <td>3</td>\n",
       "      <td>New York, NY, United States</td>\n",
       "      <td>NaN</td>\n",
       "      <td>NaN</td>\n",
       "      <td>1</td>\n",
       "    </tr>\n",
       "    <tr>\n",
       "      <th>1</th>\n",
       "      <td>2015-09-14</td>\n",
       "      <td>2015-09-15</td>\n",
       "      <td>NaN</td>\n",
       "      <td>NaN</td>\n",
       "      <td>NaN</td>\n",
       "      <td>NaN</td>\n",
       "      <td>NaN</td>\n",
       "      <td>yes</td>\n",
       "      <td>NaN</td>\n",
       "      <td>NaN</td>\n",
       "      <td>NaN</td>\n",
       "      <td>4</td>\n",
       "      <td>NaN</td>\n",
       "      <td>3</td>\n",
       "      <td>London, United Kingdom</td>\n",
       "      <td>NaN</td>\n",
       "      <td>NaN</td>\n",
       "      <td>1</td>\n",
       "    </tr>\n",
       "    <tr>\n",
       "      <th>2</th>\n",
       "      <td>2015-09-26</td>\n",
       "      <td>2015-09-27</td>\n",
       "      <td>NaN</td>\n",
       "      <td>175</td>\n",
       "      <td>NaN</td>\n",
       "      <td>NaN</td>\n",
       "      <td>yes</td>\n",
       "      <td>NaN</td>\n",
       "      <td>NaN</td>\n",
       "      <td>NaN</td>\n",
       "      <td>NaN</td>\n",
       "      <td>5</td>\n",
       "      <td>NaN</td>\n",
       "      <td>2</td>\n",
       "      <td>New York, NY, United States</td>\n",
       "      <td>NaN</td>\n",
       "      <td>NaN</td>\n",
       "      <td>1</td>\n",
       "    </tr>\n",
       "    <tr>\n",
       "      <th>3</th>\n",
       "      <td>2015-09-02</td>\n",
       "      <td>2015-09-03</td>\n",
       "      <td>NaN</td>\n",
       "      <td>NaN</td>\n",
       "      <td>NaN</td>\n",
       "      <td>yes</td>\n",
       "      <td>yes</td>\n",
       "      <td>NaN</td>\n",
       "      <td>NaN</td>\n",
       "      <td>NaN</td>\n",
       "      <td>NaN</td>\n",
       "      <td>4</td>\n",
       "      <td>NaN</td>\n",
       "      <td>1</td>\n",
       "      <td>Hong Kong, Hong Kong</td>\n",
       "      <td>NaN</td>\n",
       "      <td>NaN</td>\n",
       "      <td>1</td>\n",
       "    </tr>\n",
       "    <tr>\n",
       "      <th>4</th>\n",
       "      <td>2015-09-20</td>\n",
       "      <td>2015-09-29</td>\n",
       "      <td>NaN</td>\n",
       "      <td>275</td>\n",
       "      <td>NaN</td>\n",
       "      <td>NaN</td>\n",
       "      <td>NaN</td>\n",
       "      <td>NaN</td>\n",
       "      <td>NaN</td>\n",
       "      <td>NaN</td>\n",
       "      <td>NaN</td>\n",
       "      <td>5</td>\n",
       "      <td>NaN</td>\n",
       "      <td>3</td>\n",
       "      <td>London, United Kingdom</td>\n",
       "      <td>NaN</td>\n",
       "      <td>NaN</td>\n",
       "      <td>1</td>\n",
       "    </tr>\n",
       "  </tbody>\n",
       "</table>\n",
       "</div>"
      ],
      "text/plain": [
       "     checkin   checkout MinPrice MaxPrice freeCancellation stars_5 stars_4  \\\n",
       "0 2015-09-19 2015-09-20      NaN      NaN              NaN     NaN     yes   \n",
       "1 2015-09-14 2015-09-15      NaN      NaN              NaN     NaN     NaN   \n",
       "2 2015-09-26 2015-09-27      NaN      175              NaN     NaN     yes   \n",
       "3 2015-09-02 2015-09-03      NaN      NaN              NaN     yes     yes   \n",
       "4 2015-09-20 2015-09-29      NaN      275              NaN     NaN     NaN   \n",
       "\n",
       "  stars_3 stars_2 stars_1 max_score min_score couponCode adults  \\\n",
       "0     NaN     NaN     NaN       NaN         4        NaN      3   \n",
       "1     yes     NaN     NaN       NaN         4        NaN      3   \n",
       "2     NaN     NaN     NaN       NaN         5        NaN      2   \n",
       "3     NaN     NaN     NaN       NaN         4        NaN      1   \n",
       "4     NaN     NaN     NaN       NaN         5        NaN      3   \n",
       "\n",
       "                          city children amenities search_page  \n",
       "0  New York, NY, United States      NaN       NaN           1  \n",
       "1       London, United Kingdom      NaN       NaN           1  \n",
       "2  New York, NY, United States      NaN       NaN           1  \n",
       "3         Hong Kong, Hong Kong      NaN       NaN           1  \n",
       "4       London, United Kingdom      NaN       NaN           1  "
      ]
     },
     "execution_count": 5,
     "metadata": {},
     "output_type": "execute_result"
    }
   ],
   "source": [
    "# parse all the data\n",
    "data = parse_search(lines)\n",
    "data.head()"
   ]
  },
  {
   "cell_type": "code",
   "execution_count": 6,
   "id": "9a674d3d",
   "metadata": {},
   "outputs": [
    {
     "name": "stdout",
     "output_type": "stream",
     "text": [
      "<class 'pandas.core.frame.DataFrame'>\n",
      "RangeIndex: 77677 entries, 0 to 77676\n",
      "Data columns (total 18 columns):\n",
      " #   Column            Non-Null Count  Dtype         \n",
      "---  ------            --------------  -----         \n",
      " 0   checkin           77677 non-null  datetime64[ns]\n",
      " 1   checkout          77677 non-null  datetime64[ns]\n",
      " 2   MinPrice          1270 non-null   object        \n",
      " 3   MaxPrice          49288 non-null  object        \n",
      " 4   freeCancellation  17949 non-null  object        \n",
      " 5   stars_5           4303 non-null   object        \n",
      " 6   stars_4           12704 non-null  object        \n",
      " 7   stars_3           14862 non-null  object        \n",
      " 8   stars_2           9931 non-null   object        \n",
      " 9   stars_1           9323 non-null   object        \n",
      " 10  max_score         5517 non-null   object        \n",
      " 11  min_score         60826 non-null  object        \n",
      " 12  couponCode        2221 non-null   object        \n",
      " 13  adults            77677 non-null  object        \n",
      " 14  city              77677 non-null  object        \n",
      " 15  children          260 non-null    object        \n",
      " 16  amenities         704 non-null    object        \n",
      " 17  search_page       77677 non-null  object        \n",
      "dtypes: datetime64[ns](2), object(16)\n",
      "memory usage: 10.7+ MB\n"
     ]
    }
   ],
   "source": [
    "# check basic information\n",
    "data.info()"
   ]
  },
  {
   "cell_type": "code",
   "execution_count": 7,
   "id": "a7f105e9",
   "metadata": {},
   "outputs": [
    {
     "data": {
      "text/html": [
       "<div>\n",
       "<style scoped>\n",
       "    .dataframe tbody tr th:only-of-type {\n",
       "        vertical-align: middle;\n",
       "    }\n",
       "\n",
       "    .dataframe tbody tr th {\n",
       "        vertical-align: top;\n",
       "    }\n",
       "\n",
       "    .dataframe thead th {\n",
       "        text-align: right;\n",
       "    }\n",
       "</style>\n",
       "<table border=\"1\" class=\"dataframe\">\n",
       "  <thead>\n",
       "    <tr style=\"text-align: right;\">\n",
       "      <th></th>\n",
       "      <th>name</th>\n",
       "      <th>missing</th>\n",
       "      <th>ratio</th>\n",
       "    </tr>\n",
       "  </thead>\n",
       "  <tbody>\n",
       "    <tr>\n",
       "      <th>2</th>\n",
       "      <td>MinPrice</td>\n",
       "      <td>76407</td>\n",
       "      <td>0.983650</td>\n",
       "    </tr>\n",
       "    <tr>\n",
       "      <th>3</th>\n",
       "      <td>MaxPrice</td>\n",
       "      <td>28389</td>\n",
       "      <td>0.365475</td>\n",
       "    </tr>\n",
       "    <tr>\n",
       "      <th>4</th>\n",
       "      <td>freeCancellation</td>\n",
       "      <td>59728</td>\n",
       "      <td>0.768928</td>\n",
       "    </tr>\n",
       "    <tr>\n",
       "      <th>5</th>\n",
       "      <td>stars_5</td>\n",
       "      <td>73374</td>\n",
       "      <td>0.944604</td>\n",
       "    </tr>\n",
       "    <tr>\n",
       "      <th>6</th>\n",
       "      <td>stars_4</td>\n",
       "      <td>64973</td>\n",
       "      <td>0.836451</td>\n",
       "    </tr>\n",
       "    <tr>\n",
       "      <th>7</th>\n",
       "      <td>stars_3</td>\n",
       "      <td>62815</td>\n",
       "      <td>0.808669</td>\n",
       "    </tr>\n",
       "    <tr>\n",
       "      <th>8</th>\n",
       "      <td>stars_2</td>\n",
       "      <td>67746</td>\n",
       "      <td>0.872150</td>\n",
       "    </tr>\n",
       "    <tr>\n",
       "      <th>9</th>\n",
       "      <td>stars_1</td>\n",
       "      <td>68354</td>\n",
       "      <td>0.879977</td>\n",
       "    </tr>\n",
       "    <tr>\n",
       "      <th>10</th>\n",
       "      <td>max_score</td>\n",
       "      <td>72160</td>\n",
       "      <td>0.928975</td>\n",
       "    </tr>\n",
       "    <tr>\n",
       "      <th>11</th>\n",
       "      <td>min_score</td>\n",
       "      <td>16851</td>\n",
       "      <td>0.216937</td>\n",
       "    </tr>\n",
       "    <tr>\n",
       "      <th>12</th>\n",
       "      <td>couponCode</td>\n",
       "      <td>75456</td>\n",
       "      <td>0.971407</td>\n",
       "    </tr>\n",
       "    <tr>\n",
       "      <th>15</th>\n",
       "      <td>children</td>\n",
       "      <td>77417</td>\n",
       "      <td>0.996653</td>\n",
       "    </tr>\n",
       "    <tr>\n",
       "      <th>16</th>\n",
       "      <td>amenities</td>\n",
       "      <td>76973</td>\n",
       "      <td>0.990937</td>\n",
       "    </tr>\n",
       "  </tbody>\n",
       "</table>\n",
       "</div>"
      ],
      "text/plain": [
       "                name  missing     ratio\n",
       "2           MinPrice    76407  0.983650\n",
       "3           MaxPrice    28389  0.365475\n",
       "4   freeCancellation    59728  0.768928\n",
       "5            stars_5    73374  0.944604\n",
       "6            stars_4    64973  0.836451\n",
       "7            stars_3    62815  0.808669\n",
       "8            stars_2    67746  0.872150\n",
       "9            stars_1    68354  0.879977\n",
       "10         max_score    72160  0.928975\n",
       "11         min_score    16851  0.216937\n",
       "12        couponCode    75456  0.971407\n",
       "15          children    77417  0.996653\n",
       "16         amenities    76973  0.990937"
      ]
     },
     "execution_count": 7,
     "metadata": {},
     "output_type": "execute_result"
    }
   ],
   "source": [
    "# check missing values\n",
    "missing = data.isnull().sum().reset_index()\n",
    "missing = missing.rename(columns={'index': 'name', 0: 'missing'})\n",
    "missing['ratio'] = missing['missing'] / len(data)\n",
    "missing[missing['missing'] > 0]"
   ]
  },
  {
   "cell_type": "markdown",
   "id": "b18b95db",
   "metadata": {},
   "source": [
    "### Question 2\n",
    "For each search query, how many amenities were selected?"
   ]
  },
  {
   "cell_type": "code",
   "execution_count": 8,
   "id": "f675d4ac",
   "metadata": {},
   "outputs": [
    {
     "data": {
      "text/plain": [
       "internet                272\n",
       "yes_smoking             170\n",
       "shuttle                 111\n",
       "yes_pet                  85\n",
       "breakfast                39\n",
       "lounge                   22\n",
       "yes_smoking, yes_pet      4\n",
       "breakfast, yes_pet        1\n",
       "Name: amenities, dtype: int64"
      ]
     },
     "execution_count": 8,
     "metadata": {},
     "output_type": "execute_result"
    }
   ],
   "source": [
    "# value counts\n",
    "data['amenities'].value_counts()"
   ]
  },
  {
   "cell_type": "code",
   "execution_count": 9,
   "id": "9bb353a0",
   "metadata": {},
   "outputs": [
    {
     "data": {
      "text/plain": [
       "0    76973\n",
       "1      699\n",
       "2        5\n",
       "Name: amenities_count, dtype: int64"
      ]
     },
     "execution_count": 9,
     "metadata": {},
     "output_type": "execute_result"
    }
   ],
   "source": [
    "# check number of \n",
    "data['amenities_count'] = data['amenities'].apply(lambda x: 0 if pd.isnull(x) \n",
    "                                                  else len(x.split(', ')))\n",
    "data['amenities_count'].value_counts()"
   ]
  },
  {
   "cell_type": "markdown",
   "id": "add7b4c5",
   "metadata": {},
   "source": [
    "### Question 3\n",
    "Often, to measure the quality of a search algorithm, data scientists use some metric based on how often users click on the second page, third page, and so on. The idea here is that a great search algorithm should return all interesting results on the first page and never force users to visit the other pages (how often do you click on the second page results when you search on Google? Almost never, right?). \n",
    "- Create a metric based on the above idea and find the city with the worst search algorithm."
   ]
  },
  {
   "cell_type": "code",
   "execution_count": 10,
   "id": "21c89bba",
   "metadata": {},
   "outputs": [
    {
     "data": {
      "image/png": "[encoded data removed]",
      "text/plain": [
       "<Figure size 1200x600 with 1 Axes>"
      ]
     },
     "metadata": {},
     "output_type": "display_data"
    }
   ],
   "source": [
    "data['page'] = data['search_page'].apply(lambda x: 'First Page' if x == '1' else 'Other Pages')\n",
    "\n",
    "fig, ax = plt.subplots(figsize=(12, 6))\n",
    "sns.countplot(x='city', hue='page', data=data, ax=ax)\n",
    "plt.tight_layout()\n",
    "plt.show()"
   ]
  },
  {
   "cell_type": "code",
   "execution_count": 11,
   "id": "fd2b0350",
   "metadata": {},
   "outputs": [
    {
     "data": {
      "text/html": [
       "<div>\n",
       "<style scoped>\n",
       "    .dataframe tbody tr th:only-of-type {\n",
       "        vertical-align: middle;\n",
       "    }\n",
       "\n",
       "    .dataframe tbody tr th {\n",
       "        vertical-align: top;\n",
       "    }\n",
       "\n",
       "    .dataframe thead th {\n",
       "        text-align: right;\n",
       "    }\n",
       "</style>\n",
       "<table border=\"1\" class=\"dataframe\">\n",
       "  <thead>\n",
       "    <tr style=\"text-align: right;\">\n",
       "      <th>page</th>\n",
       "      <th>First Page</th>\n",
       "      <th>Other Pages</th>\n",
       "      <th>ratio</th>\n",
       "    </tr>\n",
       "    <tr>\n",
       "      <th>city</th>\n",
       "      <th></th>\n",
       "      <th></th>\n",
       "      <th></th>\n",
       "    </tr>\n",
       "  </thead>\n",
       "  <tbody>\n",
       "    <tr>\n",
       "      <th>Hong Kong, Hong Kong</th>\n",
       "      <td>10735</td>\n",
       "      <td>1051</td>\n",
       "      <td>0.089174</td>\n",
       "    </tr>\n",
       "    <tr>\n",
       "      <th>London, United Kingdom</th>\n",
       "      <td>14775</td>\n",
       "      <td>13283</td>\n",
       "      <td>0.473412</td>\n",
       "    </tr>\n",
       "    <tr>\n",
       "      <th>New York, NY, United States</th>\n",
       "      <td>16385</td>\n",
       "      <td>12999</td>\n",
       "      <td>0.442384</td>\n",
       "    </tr>\n",
       "    <tr>\n",
       "      <th>San Francisco, California, United States</th>\n",
       "      <td>8105</td>\n",
       "      <td>344</td>\n",
       "      <td>0.040715</td>\n",
       "    </tr>\n",
       "  </tbody>\n",
       "</table>\n",
       "</div>"
      ],
      "text/plain": [
       "page                                      First Page  Other Pages     ratio\n",
       "city                                                                       \n",
       "Hong Kong, Hong Kong                           10735         1051  0.089174\n",
       "London, United Kingdom                         14775        13283  0.473412\n",
       "New York, NY, United States                    16385        12999  0.442384\n",
       "San Francisco, California, United States        8105          344  0.040715"
      ]
     },
     "execution_count": 11,
     "metadata": {},
     "output_type": "execute_result"
    }
   ],
   "source": [
    "grouped = data.groupby(['city', 'page'])['checkin'].count().unstack()\n",
    "grouped['ratio'] = grouped['Other Pages'] / (grouped['First Page'] + grouped['Other Pages'])\n",
    "\n",
    "grouped"
   ]
  },
  {
   "cell_type": "code",
   "execution_count": 12,
   "id": "3c3fca68",
   "metadata": {},
   "outputs": [
    {
     "data": {
      "image/png": "[encoded data removed]",
      "text/plain": [
       "<Figure size 1200x500 with 1 Axes>"
      ]
     },
     "metadata": {},
     "output_type": "display_data"
    }
   ],
   "source": [
    "fig, ax = plt.subplots(figsize=(12, 5))\n",
    "sns.barplot(x=grouped.index, y='ratio', data=grouped, ax=ax)\n",
    "plt.tight_layout()\n",
    "plt.show()"
   ]
  },
  {
   "cell_type": "markdown",
   "id": "5fcbd224",
   "metadata": {},
   "source": [
    "If we use the ratio of other pages versus total visits, we can see that London and New York have pretty high ratio. It's clear that London and New York have pretty bad search algorithms."
   ]
  }
 ],
 "metadata": {
  "kernelspec": {
   "display_name": "Python 3 (ipykernel)",
   "language": "python",
   "name": "python3"
  },
  "language_info": {
   "codemirror_mode": {
    "name": "ipython",
    "version": 3
   },
   "file_extension": ".py",
   "mimetype": "text/x-python",
   "name": "python",
   "nbconvert_exporter": "python",
   "pygments_lexer": "ipython3",
   "version": "3.9.13"
  }
 },
 "nbformat": 4,
 "nbformat_minor": 5
}
